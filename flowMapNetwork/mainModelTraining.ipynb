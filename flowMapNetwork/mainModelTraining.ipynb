{
 "cells": [
  {
   "cell_type": "code",
   "execution_count": null,
   "metadata": {},
   "outputs": [],
   "source": [
    "import numpy as np\n",
    "import matplotlib.pyplot as plt\n",
    "import torch\n",
    "import time as time_lib\n",
    "from scripts.network import network\n",
    "from scripts.training import trainModel\n",
    "from scripts.dynamics import vecField,vecField_np"
   ]
  },
  {
   "cell_type": "code",
   "execution_count": null,
   "metadata": {},
   "outputs": [],
   "source": [
    "torch.manual_seed(1)\n",
    "np.random.seed(1)\n",
    "dtype=torch.float32\n",
    "device = torch.device(\"cuda:0\" if torch.cuda.is_available() else \"cpu\")\n",
    "print(device)"
   ]
  },
  {
   "cell_type": "code",
   "execution_count": null,
   "metadata": {},
   "outputs": [],
   "source": [
    "system = \"SIR\"\n",
    "\n",
    "vecRef = vecField(system=system)\n",
    "\n",
    "if system==\"SIR\":\n",
    "        beta,gamma,N = vecRef.beta,vecRef.gamma,vecRef.N\n",
    "        t_max = 100.\n",
    "        num_t = 101\n",
    "        L = 3\n",
    "        n_t = 2\n",
    "        vecRef.dt_fine = 1e-2\n",
    "elif system==\"Brusselator\":\n",
    "        A,B = vecRef.A,vecRef.B \n",
    "        t_max = 12.\n",
    "        num_t = 25\n",
    "        L = 3\n",
    "        n_t = 5\n",
    "        vecRef.dt_fine = t_max/640\n",
    "else:\n",
    "        print(\"Dynamics not implemented\")"
   ]
  },
  {
   "cell_type": "code",
   "execution_count": null,
   "metadata": {},
   "outputs": [],
   "source": [
    "if system==\"SIR\":\n",
    "        y0 = np.array([0.3,0.5,0.2])\n",
    "elif system==\"Brusselator\":\n",
    "        y0 = np.array([0.,1.])\n",
    "else:\n",
    "        print(\"Dynamics not implemented\")"
   ]
  },
  {
   "cell_type": "code",
   "execution_count": null,
   "metadata": {},
   "outputs": [],
   "source": [
    "#Domain details\n",
    "t0 = 0. #initial time\n",
    "dt = 1.#t_max / num_t #time step for which we train the network\n",
    "if system==\"SIR\":\n",
    "    lb = 0.\n",
    "    ub = 1.\n",
    "    d = 3\n",
    "elif system==\"Brusselator\":\n",
    "    lb = 0.\n",
    "    ub = 5.\n",
    "    d = 2\n",
    "\n",
    "n_train, epochs = 1000, int(1e5)\n",
    "vec = vecField(system,d)\n",
    "is_training = input(\"Do you want to train the network or load a pretrained model? Write y to train it\")==\"y\"\n",
    "\n",
    "lr = 5e-3\n",
    "\n",
    "nlayers = 4\n",
    "hidden_nodes = 10\n",
    "act = \"sin\"\n",
    "dim_t = hidden_nodes\n",
    "device = 'cpu'\n",
    "bounds = [lb,ub]\n",
    "\n",
    "model = network(neurons=hidden_nodes,d=d,dt=dt,act_name=act,nlayers=nlayers,dtype=dtype,system=system) #If you want a different network\n",
    "model.to(device);\n",
    "\n",
    "lr = 5e-3\n",
    "\n",
    "tt = time_lib.time()\n",
    "\n",
    "optimizer = torch.optim.Adam(model.parameters(), lr=lr)\n",
    "timestamp = time_lib.strftime(\"%Y%m%d_%H%M%S\") \n",
    "file_name = f\"trained_model_{system}_{timestamp}\"\n",
    "path = f\"trainedModels/{file_name}.pt\"\n",
    "Loss = trainModel(model,n_train,y0,dt,t_max,bounds,vec,epochs,device,dtype,optimizer)\n",
    "torch.save(model.state_dict(), path)\n",
    "model.eval();\n",
    "\n",
    "training_time = time_lib.time() - tt"
   ]
  },
  {
   "cell_type": "code",
   "execution_count": null,
   "metadata": {},
   "outputs": [],
   "source": [
    "params = {\n",
    "    \"dt\":dt,\n",
    "    \"n_train\":n_train,\n",
    "    \"epochs\":epochs,\n",
    "    \"nlayers\":nlayers,\n",
    "    \"lr\":lr,\n",
    "    \"act\":act,\n",
    "    \"hidden_nodes\":hidden_nodes,\n",
    "    \"dim_t\":dim_t,\n",
    "    \"device\":device,\n",
    "    \"file_name\":file_name,\n",
    "    \"training_time\":training_time\n",
    "}"
   ]
  },
  {
   "cell_type": "code",
   "execution_count": null,
   "metadata": {},
   "outputs": [],
   "source": [
    "import pickle \n",
    "\n",
    "with open(f'trainedModels/{file_name}.pkl', 'wb') as f:\n",
    "    pickle.dump(params, f)"
   ]
  },
  {
   "cell_type": "code",
   "execution_count": null,
   "metadata": {},
   "outputs": [],
   "source": [
    "training_time"
   ]
  },
  {
   "cell_type": "code",
   "execution_count": null,
   "metadata": {},
   "outputs": [],
   "source": []
  }
 ],
 "metadata": {
  "kernelspec": {
   "display_name": "Python 3",
   "language": "python",
   "name": "python3"
  },
  "language_info": {
   "codemirror_mode": {
    "name": "ipython",
    "version": 3
   },
   "file_extension": ".py",
   "mimetype": "text/x-python",
   "name": "python",
   "nbconvert_exporter": "python",
   "pygments_lexer": "ipython3",
   "version": "3.10.11"
  }
 },
 "nbformat": 4,
 "nbformat_minor": 2
}
