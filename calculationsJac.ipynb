{
 "cells": [
  {
   "cell_type": "markdown",
   "metadata": {},
   "source": [
    "$$\n",
    "y(t) = y0 + (h-h0)W\n",
    "$$\n",
    "$$\n",
    "h = [\\sigma(at_i+b)]_{i=1,...,n}\\in\\mathbb{R}^{n\\times H},\\,\\,h_0 = \\sigma(at_0+b)\n",
    "$$\n",
    "$$\n",
    "W \\in\\mathbb{R}^{H\\times d}\n",
    "$$"
   ]
  },
  {
   "cell_type": "markdown",
   "metadata": {},
   "source": [
    "$$\n",
    "\\mathrm{vec}(W)\\in\\mathbb{R}^{Hd},\\,\\,H\\in\\mathbb{R}^{nh},\\,\\,\\mathrm{vec}(Y)\\in\\mathbb{R}^{dn}\n",
    "$$"
   ]
  },
  {
   "cell_type": "markdown",
   "metadata": {},
   "source": [
    "$$\n",
    "r(t) = F(y(t))-\\dot{y}(t) \n",
    "$$\n",
    "$$\n",
    "\\partial_W r(t) = F'(y(t))(h-h0)-(hd)\n",
    "$$\n",
    "$$\n",
    "hd = a\\sigma'(at+b)\n",
    "$$\n",
    "$$\n",
    "\\frac{\\partial \\mathrm{vec}(r(t))}{\\partial \\mathrm{vec}(W)}\n",
    "$$"
   ]
  },
  {
   "cell_type": "markdown",
   "metadata": {},
   "source": [
    "$$\n",
    "\\mathrm{vec}(y(t)) = \\mathrm{vec}(y0) + (I_d\\otimes(h-h0))\\mathrm{vec}(W)\n",
    "$$"
   ]
  },
  {
   "cell_type": "markdown",
   "metadata": {},
   "source": [
    "$$\n",
    "\\frac{\\partial r(t)}{\\partial\\mathrm{vec}(W)} = F'(y(t))(I\\otimes (h-h0)) - \\mathrm{vec}(h_d)\n",
    "$$"
   ]
  },
  {
   "cell_type": "markdown",
   "metadata": {},
   "source": [
    "$$\n",
    "F(y) = -y\\odot (D_1 y) + D_2 y\n",
    "$$"
   ]
  },
  {
   "cell_type": "markdown",
   "metadata": {},
   "source": [
    "$$\n",
    "F(Y) = -Y\\odot (YD_1^T) + YD_2^T\n",
    "$$\n",
    "$$\n",
    "\\mathrm{vec}(F(Y)) = -\\mathrm{vec}(Y)\\odot \\mathrm{vec}(YD_1^T)+(D_2\\otimes I_n)\\mathrm{vec}(Y)\n",
    "$$"
   ]
  },
  {
   "cell_type": "markdown",
   "metadata": {},
   "source": [
    "$$\n",
    "\\mathrm{vec}(YD_1^T) = (D_1\\otimes I_n)\\mathrm{vec}(Y)\n",
    "$$"
   ]
  },
  {
   "cell_type": "markdown",
   "metadata": {},
   "source": [
    "$$\n",
    "\\frac{\\mathrm{vec}(F(Y))}{\\mathrm{vec}(Y)} = - \\mathrm{diag}(\\mathrm{vec}(YD_1^T)) - \\mathrm{diag}(\\mathrm{vec}(Y))(D_1\\otimes I_n) + (D_2\\otimes I_n)\n",
    "$$"
   ]
  },
  {
   "cell_type": "markdown",
   "metadata": {},
   "source": [
    "$$\n",
    "\\frac{\\partial\\mathrm{vec}(Y)}{\\partial\\mathrm{vec}(W)} = (I_d\\otimes (H-H_0))\n",
    "$$"
   ]
  },
  {
   "cell_type": "markdown",
   "metadata": {},
   "source": [
    "$H\\in\\mathbb{R}^{n\\times H}$"
   ]
  },
  {
   "cell_type": "markdown",
   "metadata": {},
   "source": [
    "(dn,dn) * (dn,dH) = (dn,dH)"
   ]
  },
  {
   "cell_type": "markdown",
   "metadata": {},
   "source": [
    "$$\n",
    "\\frac{\\partial\\mathrm{vec}(F(Y))}{\\partial\\mathrm{vec}(W)} = \\frac{\\partial\\mathrm{vec}(F(Y))}{\\partial\\mathrm{vec}(Y)}(I_d\\otimes (H-H_0))\n",
    "$$\\partial"
   ]
  },
  {
   "cell_type": "markdown",
   "metadata": {},
   "source": [
    "$$\n",
    "F'(y) = -\\mathrm{diag}(D_1y) - \\mathrm{diag}(y)D_1 + D_2\n",
    "$$"
   ]
  },
  {
   "cell_type": "code",
   "execution_count": 1,
   "metadata": {},
   "outputs": [],
   "source": [
    "import torch\n",
    "from torch.func import jacrev\n",
    "import numpy as np\n",
    "\n",
    "d = 10\n",
    "H = 30\n",
    "n = 20\n",
    "\n",
    "dtype = torch.float64\n",
    "\n",
    "Y0 = torch.rand((n,d),dtype=dtype)\n",
    "h = torch.rand((n,H),dtype=dtype)\n",
    "h0 = torch.rand((n,H),dtype=dtype)\n",
    "W = torch.rand((H,d),dtype=dtype)\n",
    "W.requires_grad =True\n",
    "\n",
    "D1 = torch.randn((d,d),dtype=dtype)\n",
    "D2 = torch.randn((d,d),dtype=dtype)"
   ]
  },
  {
   "cell_type": "code",
   "execution_count": 2,
   "metadata": {},
   "outputs": [],
   "source": [
    "YY = lambda W : Y0 + (h-h0)@W\n",
    "F = lambda W : - YY(W.reshape(H,d)) * (YY(W.reshape(H,d))@D1.T) + YY(W) @ D2.T"
   ]
  },
  {
   "cell_type": "code",
   "execution_count": 3,
   "metadata": {},
   "outputs": [],
   "source": [
    "auto_jac = (jacrev(F)(W)).detach().cpu().numpy().reshape((-1,H*d),order='F')"
   ]
  },
  {
   "cell_type": "code",
   "execution_count": 4,
   "metadata": {},
   "outputs": [],
   "source": [
    "Y = YY(W)"
   ]
  },
  {
   "cell_type": "code",
   "execution_count": 5,
   "metadata": {},
   "outputs": [],
   "source": [
    "df_dy = - torch.diag_embed((Y@D1.T).T.reshape(-1)) - torch.diag_embed(Y.T.reshape(-1))@torch.kron(D1,torch.eye(n)) + torch.kron(D2,torch.eye(n))\n",
    "dy_dw = torch.kron(torch.eye(d),h-h0)\n"
   ]
  },
  {
   "cell_type": "code",
   "execution_count": 6,
   "metadata": {},
   "outputs": [],
   "source": [
    "df_dw = (df_dy @ dy_dw).detach().cpu().numpy()"
   ]
  },
  {
   "cell_type": "code",
   "execution_count": 7,
   "metadata": {},
   "outputs": [
    {
     "data": {
      "text/plain": [
       "True"
      ]
     },
     "execution_count": 7,
     "metadata": {},
     "output_type": "execute_result"
    }
   ],
   "source": [
    "np.allclose(df_dw, auto_jac)"
   ]
  },
  {
   "cell_type": "code",
   "execution_count": null,
   "metadata": {},
   "outputs": [],
   "source": []
  },
  {
   "cell_type": "code",
   "execution_count": 3,
   "metadata": {},
   "outputs": [
    {
     "data": {
      "text/plain": [
       "array([[0.71589829, 0.47215822],\n",
       "       [0.71589829, 0.47215822],\n",
       "       [0.71589829, 0.47215822]])"
      ]
     },
     "execution_count": 3,
     "metadata": {},
     "output_type": "execute_result"
    }
   ],
   "source": [
    "import numpy as np\n",
    "\n",
    "ones = np.ones(3)\n",
    "cc = np.random.randn(2)\n",
    "np.outer(ones,cc)"
   ]
  },
  {
   "cell_type": "code",
   "execution_count": 4,
   "metadata": {},
   "outputs": [
    {
     "data": {
      "text/plain": [
       "array([0.71589829, 0.47215822])"
      ]
     },
     "execution_count": 4,
     "metadata": {},
     "output_type": "execute_result"
    }
   ],
   "source": [
    "cc"
   ]
  },
  {
   "cell_type": "code",
   "execution_count": null,
   "metadata": {},
   "outputs": [],
   "source": []
  }
 ],
 "metadata": {
  "kernelspec": {
   "display_name": "Python 3",
   "language": "python",
   "name": "python3"
  },
  "language_info": {
   "codemirror_mode": {
    "name": "ipython",
    "version": 3
   },
   "file_extension": ".py",
   "mimetype": "text/x-python",
   "name": "python",
   "nbconvert_exporter": "python",
   "pygments_lexer": "ipython3",
   "version": "3.10.11"
  }
 },
 "nbformat": 4,
 "nbformat_minor": 2
}
