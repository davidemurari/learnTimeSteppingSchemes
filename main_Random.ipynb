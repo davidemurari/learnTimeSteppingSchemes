{
 "cells": [
  {
   "cell_type": "code",
   "execution_count": 1,
   "metadata": {},
   "outputs": [],
   "source": [
    "import numpy as np\n",
    "import matplotlib.pyplot as plt\n",
    "import time as time_lib\n",
    "\n",
    "import numba as nb\n",
    "from numbalsoda import lsoda_sig, lsoda, dop853\n",
    "from numba import njit, cfunc\n",
    "\n",
    "from scripts.dynamics import vecField\n",
    "from scripts.utils import getCoarse,getNextCoarse\n",
    "from scripts.plotting import plot_results"
   ]
  },
  {
   "cell_type": "code",
   "execution_count": 2,
   "metadata": {},
   "outputs": [],
   "source": [
    "system = \"Burger\"\n",
    "\n",
    "n_x = 10\n",
    "n_t = 100\n",
    "\n",
    "LB = -1.\n",
    "UB = 1.\n",
    "L = 50\n",
    "\n",
    "weight = np.random.uniform(low=LB,high=UB,size=(L))\n",
    "bias = np.random.uniform(low=LB,high=UB,size=(L))\n",
    "\n",
    "vecRef = vecField(system=system)\n",
    "if system==\"Rober\":\n",
    "        k1,k2,k3 = vecRef.k1,vecRef.k2,vecRef.k3\n",
    "        t_max = 100.\n",
    "elif system==\"SIR\":\n",
    "        beta,gamma,N = vecRef.beta,vecRef.gamma,vecRef.N\n",
    "        t_max = 100.\n",
    "elif system==\"Brusselator\":\n",
    "        A,B = vecRef.A,vecRef.B \n",
    "        t_max = 12.\n",
    "elif system==\"Arenstorf\":\n",
    "        a,b = vecRef.a,vecRef.b \n",
    "        t_max = 17.0652165601579625588917206249 #One period\n",
    "elif system==\"Lorenz\":\n",
    "        sigma,r,b = vecRef.sigma,vecRef.r,vecRef.b\n",
    "        t_max = 10.\n",
    "elif system==\"Burger\":\n",
    "        nu = vecRef.nu\n",
    "        dx = vecRef.dx\n",
    "        x = vecRef.x\n",
    "        t_max = 1.\n",
    "else:\n",
    "        print(\"Dynamics not implemented\")\n",
    "        \n",
    "time = np.linspace(0,t_max,int(t_max)+1)\n",
    "dts = np.diff(time)"
   ]
  },
  {
   "cell_type": "markdown",
   "metadata": {},
   "source": [
    "#### Setting the initial conditions"
   ]
  },
  {
   "cell_type": "code",
   "execution_count": 3,
   "metadata": {},
   "outputs": [],
   "source": [
    "if system==\"Rober\":\n",
    "        y0 = np.array([1.,0.,0])\n",
    "elif system==\"SIR\":\n",
    "        y0 = np.array([0.3,0.5,0.2])\n",
    "elif system==\"Brusselator\":\n",
    "        y0 = np.array([0.,1.])\n",
    "elif system==\"Arenstorf\":\n",
    "        y0 = np.array([0.994,0,0.,-2.00158510637908252240537862224])\n",
    "elif system==\"Lorenz\":\n",
    "        y0 = np.array([20.,5,-5])\n",
    "elif system==\"Burger\":\n",
    "        y0 = np.sin(2*np.pi*vecRef.x)\n",
    "else:\n",
    "        print(\"Dynamics not implemented\")"
   ]
  },
  {
   "cell_type": "code",
   "execution_count": 4,
   "metadata": {},
   "outputs": [],
   "source": [
    "data = {\"LB\" : LB,\n",
    "        \"UB\" : UB,\n",
    "        \"L\" : L,\n",
    "        \"y0\" : y0,\n",
    "        \"weight\" : weight,\n",
    "        \"bias\" : bias,\n",
    "        \"n_x\" : n_x,\n",
    "        \"n_t\" : n_t,\n",
    "        \"system\" : system}"
   ]
  },
  {
   "cell_type": "code",
   "execution_count": 5,
   "metadata": {},
   "outputs": [],
   "source": [
    "@cfunc(lsoda_sig)\n",
    "def f(t,y,dy,p):\n",
    "    if system==\"Rober\":\n",
    "        dy[0] =  -k1*y[0] + k3 * y[1] * y[2]\n",
    "        dy[1] = k1*y[0] - k3 * y[1] * y[2] - k2*y[1]**2\n",
    "        dy[2] = k2*y[1]**2\n",
    "    elif system==\"SIR\":\n",
    "        dy[0] = -beta*y[1]*y[0]/N\n",
    "        dy[1] = beta*y[0]*y[1]/N - gamma * y[1]\n",
    "        dy[2]= gamma * y[1]\n",
    "    elif system==\"Brusselator\":\n",
    "        dy[0] = A+y[0]**2*y[1]-(B+1)*y[0]\n",
    "        dy[1] = B*y[0]-y[0]**2*y[1]\n",
    "    elif system==\"Arenstorf\":\n",
    "        mu = a\n",
    "        x, y, vx, vy = y[0],y[2],y[1],y[3]\n",
    "        D1 = ((x + a)**2 + y**2)**1.5\n",
    "        D2 = ((x - b)**2 + y**2)**1.5\n",
    "        dy[0] = vx\n",
    "        dy[1] = x + 2*vy - b*(x + a)/D1 - a*(x - b)/D2\n",
    "        dy[2] = vy\n",
    "        dy[3] = y - 2*vx - b*y/D1 - a*y/D2\n",
    "    elif system==\"Lorenz\":\n",
    "        dy[0] = -sigma * y[0] + sigma * y[1]\n",
    "        dy[1] = -y[0]*y[2]+r*y[0]-y[1]\n",
    "        dy[2] = y[0]*y[1]-b*y[2]\n",
    "    elif system==\"Burger\":\n",
    "        y_array = nb.carray(y, (50,))\n",
    "        #dy = nb.carray(dy, (50,))\n",
    "\n",
    "        # We can now use y_array and dy_array as normal Numpy arrays\n",
    "        # Compute the derivatives, omitting boundaries since they are homogeneous\n",
    "        for i in range(1, 50-1):\n",
    "            y_x = (y_array[i+1] - y_array[i-1]) / (2 * dx)\n",
    "            y_xx = (y_array[i+1] - 2 * y_array[i] + y_array[i-1]) / dx**2\n",
    "            dy[i] = -y_array[i] * y_x + nu * y_xx\n",
    "\n",
    "        # Boundary conditions\n",
    "        dy[0] = 0.\n",
    "        dy[-1] = 0.0\n",
    "    else:\n",
    "        print(\"Dynamics not implemented\")"
   ]
  },
  {
   "cell_type": "code",
   "execution_count": 6,
   "metadata": {},
   "outputs": [],
   "source": [
    "funcptr = f.address # address to ODE function"
   ]
  },
  {
   "cell_type": "code",
   "execution_count": 7,
   "metadata": {},
   "outputs": [],
   "source": [
    "@njit(parallel=True)\n",
    "def fine_integrator(ics,dts):\n",
    "    usol = np.zeros_like(ics)\n",
    "    for i in nb.prange(len(ics)):\n",
    "        u0 = ics[i]\n",
    "        uu,_ = lsoda(funcptr, u0, t_eval=np.array([0,dts[i]]), rtol = 1e-6, atol = 1e-6)\n",
    "        usol[i] = uu[-1]\n",
    "    return usol"
   ]
  },
  {
   "cell_type": "code",
   "execution_count": 8,
   "metadata": {},
   "outputs": [
    {
     "ename": "KeyboardInterrupt",
     "evalue": "",
     "output_type": "error",
     "traceback": [
      "\u001b[0;31m---------------------------------------------------------------------------\u001b[0m",
      "\u001b[0;31mKeyboardInterrupt\u001b[0m                         Traceback (most recent call last)",
      "Cell \u001b[0;32mIn[8], line 19\u001b[0m\n\u001b[1;32m     17\u001b[0m \u001b[38;5;28;01mif\u001b[39;00m it\u001b[38;5;241m==\u001b[39m\u001b[38;5;241m0\u001b[39m:\n\u001b[1;32m     18\u001b[0m     initial_time \u001b[38;5;241m=\u001b[39m time_lib\u001b[38;5;241m.\u001b[39mtime()\n\u001b[0;32m---> 19\u001b[0m     coarse_approx \u001b[38;5;241m=\u001b[39m \u001b[43mgetCoarse\u001b[49m\u001b[43m(\u001b[49m\u001b[43mprevious\u001b[49m\u001b[38;5;241;43m=\u001b[39;49m\u001b[43m[\u001b[49m\u001b[43m]\u001b[49m\u001b[43m,\u001b[49m\u001b[43mtime\u001b[49m\u001b[38;5;241;43m=\u001b[39;49m\u001b[43mtime\u001b[49m\u001b[43m,\u001b[49m\u001b[43mdata\u001b[49m\u001b[38;5;241;43m=\u001b[39;49m\u001b[43mdata\u001b[49m\u001b[43m,\u001b[49m\u001b[43mnetworks\u001b[49m\u001b[38;5;241;43m=\u001b[39;49m\u001b[43mnetworks\u001b[49m\u001b[43m)\u001b[49m\n\u001b[1;32m     20\u001b[0m     coarse_values_parareal \u001b[38;5;241m=\u001b[39m coarse_approx\u001b[38;5;241m.\u001b[39mcopy()\n\u001b[1;32m     21\u001b[0m     computational_times_per_iterate\u001b[38;5;241m.\u001b[39mappend(time_lib\u001b[38;5;241m.\u001b[39mtime()\u001b[38;5;241m-\u001b[39minitial_time)\n",
      "File \u001b[0;32m~/Desktop/repos/learningTimeSteppers/scripts/utils.py:306\u001b[0m, in \u001b[0;36mgetCoarse\u001b[0;34m(time, data, previous, networks)\u001b[0m\n\u001b[1;32m    304\u001b[0m \u001b[38;5;28;01mfor\u001b[39;00m i \u001b[38;5;129;01min\u001b[39;00m \u001b[38;5;28mrange\u001b[39m(\u001b[38;5;28mlen\u001b[39m(time)\u001b[38;5;241m-\u001b[39m\u001b[38;5;241m1\u001b[39m):\n\u001b[1;32m    305\u001b[0m     flow \u001b[38;5;241m=\u001b[39m flowMap(y0\u001b[38;5;241m=\u001b[39mcoarse_approx[i],initial_proj\u001b[38;5;241m=\u001b[39minitial_proj,weight\u001b[38;5;241m=\u001b[39mweight,bias\u001b[38;5;241m=\u001b[39mbias,dt\u001b[38;5;241m=\u001b[39mdts[i],n_t\u001b[38;5;241m=\u001b[39mn_t,n_x\u001b[38;5;241m=\u001b[39mn_x,L\u001b[38;5;241m=\u001b[39mL,LB\u001b[38;5;241m=\u001b[39mLB,UB\u001b[38;5;241m=\u001b[39mUB,system\u001b[38;5;241m=\u001b[39msystem,act_name\u001b[38;5;241m=\u001b[39m\u001b[38;5;124m\"\u001b[39m\u001b[38;5;124mTanh\u001b[39m\u001b[38;5;124m\"\u001b[39m)\n\u001b[0;32m--> 306\u001b[0m     \u001b[43mflow\u001b[49m\u001b[38;5;241;43m.\u001b[39;49m\u001b[43mapproximate_flow_map\u001b[49m\u001b[43m(\u001b[49m\u001b[43m)\u001b[49m\n\u001b[1;32m    307\u001b[0m     coarse_approx[i\u001b[38;5;241m+\u001b[39m\u001b[38;5;241m1\u001b[39m] \u001b[38;5;241m=\u001b[39m flow\u001b[38;5;241m.\u001b[39manalyticalApproximateSolution(dts[i])\n\u001b[1;32m    308\u001b[0m     networks\u001b[38;5;241m.\u001b[39mappend(flow)\n",
      "File \u001b[0;32m~/Desktop/repos/learningTimeSteppers/scripts/utils.py:241\u001b[0m, in \u001b[0;36mflowMap.approximate_flow_map\u001b[0;34m(self, IterMax, IterTol)\u001b[0m\n\u001b[1;32m    239\u001b[0m l2[\u001b[38;5;241m0\u001b[39m] \u001b[38;5;241m=\u001b[39m l2[\u001b[38;5;241m1\u001b[39m] \u001b[38;5;66;03m#this says that we suppose to converge after this block of code runs\u001b[39;00m\n\u001b[1;32m    240\u001b[0m JJ \u001b[38;5;241m=\u001b[39m \u001b[38;5;28mself\u001b[39m\u001b[38;5;241m.\u001b[39mjac_residual(c_i,xi_i)\n\u001b[0;32m--> 241\u001b[0m dxi \u001b[38;5;241m=\u001b[39m \u001b[43mnp\u001b[49m\u001b[38;5;241;43m.\u001b[39;49m\u001b[43mlinalg\u001b[49m\u001b[38;5;241;43m.\u001b[39;49m\u001b[43mlstsq\u001b[49m\u001b[43m(\u001b[49m\u001b[43mJJ\u001b[49m\u001b[43m,\u001b[49m\u001b[43mLoss\u001b[49m\u001b[43m,\u001b[49m\u001b[43mrcond\u001b[49m\u001b[38;5;241;43m=\u001b[39;49m\u001b[38;5;28;43;01mNone\u001b[39;49;00m\u001b[43m)\u001b[49m[\u001b[38;5;241m0\u001b[39m]\n\u001b[1;32m    242\u001b[0m xi_i \u001b[38;5;241m=\u001b[39m xi_i \u001b[38;5;241m-\u001b[39m dxi\n\u001b[1;32m    243\u001b[0m Loss \u001b[38;5;241m=\u001b[39m \u001b[38;5;28mself\u001b[39m\u001b[38;5;241m.\u001b[39mresidual(c_i,xi_i)\n",
      "File \u001b[0;32m/usr/local/lib/python3.10/site-packages/numpy/linalg/linalg.py:2326\u001b[0m, in \u001b[0;36mlstsq\u001b[0;34m(a, b, rcond)\u001b[0m\n\u001b[1;32m   2323\u001b[0m \u001b[38;5;28;01mif\u001b[39;00m n_rhs \u001b[38;5;241m==\u001b[39m \u001b[38;5;241m0\u001b[39m:\n\u001b[1;32m   2324\u001b[0m     \u001b[38;5;66;03m# lapack can't handle n_rhs = 0 - so allocate the array one larger in that axis\u001b[39;00m\n\u001b[1;32m   2325\u001b[0m     b \u001b[38;5;241m=\u001b[39m zeros(b\u001b[38;5;241m.\u001b[39mshape[:\u001b[38;5;241m-\u001b[39m\u001b[38;5;241m2\u001b[39m] \u001b[38;5;241m+\u001b[39m (m, n_rhs \u001b[38;5;241m+\u001b[39m \u001b[38;5;241m1\u001b[39m), dtype\u001b[38;5;241m=\u001b[39mb\u001b[38;5;241m.\u001b[39mdtype)\n\u001b[0;32m-> 2326\u001b[0m x, resids, rank, s \u001b[38;5;241m=\u001b[39m \u001b[43mgufunc\u001b[49m\u001b[43m(\u001b[49m\u001b[43ma\u001b[49m\u001b[43m,\u001b[49m\u001b[43m \u001b[49m\u001b[43mb\u001b[49m\u001b[43m,\u001b[49m\u001b[43m \u001b[49m\u001b[43mrcond\u001b[49m\u001b[43m,\u001b[49m\u001b[43m \u001b[49m\u001b[43msignature\u001b[49m\u001b[38;5;241;43m=\u001b[39;49m\u001b[43msignature\u001b[49m\u001b[43m,\u001b[49m\u001b[43m \u001b[49m\u001b[43mextobj\u001b[49m\u001b[38;5;241;43m=\u001b[39;49m\u001b[43mextobj\u001b[49m\u001b[43m)\u001b[49m\n\u001b[1;32m   2327\u001b[0m \u001b[38;5;28;01mif\u001b[39;00m m \u001b[38;5;241m==\u001b[39m \u001b[38;5;241m0\u001b[39m:\n\u001b[1;32m   2328\u001b[0m     x[\u001b[38;5;241m.\u001b[39m\u001b[38;5;241m.\u001b[39m\u001b[38;5;241m.\u001b[39m] \u001b[38;5;241m=\u001b[39m \u001b[38;5;241m0\u001b[39m\n",
      "\u001b[0;31mKeyboardInterrupt\u001b[0m: "
     ]
    }
   ],
   "source": [
    "from scipy.integrate import solve_ivp\n",
    "\n",
    "max_it = 10 #maximum number of parareal iterates\n",
    "tol = 1e-5\n",
    "computational_times_per_iterate = []\n",
    "it = 0\n",
    "is_converged = False\n",
    "\n",
    "networks = []\n",
    "\n",
    "initial_full = time_lib.time()\n",
    "\n",
    "while it<max_it and is_converged==False:\n",
    "\n",
    "    norm_difference = []\n",
    "\n",
    "    if it==0:\n",
    "        initial_time = time_lib.time()\n",
    "        coarse_approx = getCoarse(previous=[],time=time,data=data,networks=networks)\n",
    "        coarse_values_parareal = coarse_approx.copy()\n",
    "        computational_times_per_iterate.append(time_lib.time()-initial_time)\n",
    "            \n",
    "    else:\n",
    "        initial_time = time_lib.time()\n",
    "        coarse_approx = getCoarse(previous=coarse_values_parareal,data=data,time=time,networks=networks)\n",
    "        \n",
    "        start_fine = time_lib.time()\n",
    "        \n",
    "        fine_int = fine_integrator(coarse_values_parareal,dts)\n",
    "        print(\"Time required for the fine solver : \",time_lib.time()-start_fine)\n",
    "        for i in range(len(time)-1):     \n",
    "            previous = coarse_values_parareal[i+1].copy()\n",
    "            coarse_values_parareal[i+1] = fine_int[i] + getNextCoarse(y=coarse_values_parareal[i],i=i,time=time,data=data,networks=networks) - coarse_approx[i+1]\n",
    "            norm_difference = np.linalg.norm(coarse_values_parareal[i+1]-previous,2)\n",
    "            \n",
    "        computational_times_per_iterate.append(time_lib.time()-initial_time)\n",
    "        print(\"Maximum norm of difference :\",np.round(np.max(norm_difference),10))\n",
    "        is_converged = np.max(norm_difference)<tol\n",
    "        \n",
    "    it+=1\n",
    "    print(f\"Iterate {it} completed\")\n",
    "    print(f\"Time for iterate {it} is {computational_times_per_iterate[-1]}\")  \n",
    "\n",
    "total_time = time_lib.time()-initial_full"
   ]
  },
  {
   "cell_type": "code",
   "execution_count": null,
   "metadata": {},
   "outputs": [],
   "source": [
    "def get_detailed_solution():\n",
    "    time_plot = np.linspace(0,networks[0].dt,101)\n",
    "    sol = networks[0].plotOverTimeRange(time_plot)\n",
    "    total_time = time_plot\n",
    "    for i in np.arange(1,len(networks)):\n",
    "        time_plot = np.linspace(0,networks[i].dt,101)[1:]\n",
    "        sol = np.concatenate((sol,networks[i].plotOverTimeRange(time_plot)),axis=1)\n",
    "        total_time = np.concatenate((total_time,time_plot+total_time[-1]),axis=0)\n",
    "    return sol,total_time"
   ]
  },
  {
   "cell_type": "code",
   "execution_count": null,
   "metadata": {},
   "outputs": [],
   "source": [
    "network_sol, time_plot = get_detailed_solution()"
   ]
  },
  {
   "cell_type": "code",
   "execution_count": null,
   "metadata": {},
   "outputs": [],
   "source": [
    "initial = time_lib.time()\n",
    "output, _ = dop853(funcptr, y0, t_eval=time_plot, rtol=1e-11, atol=1e-10)\n",
    "final = time_lib.time()\n",
    "print(f\"Computational time : {final-initial}\")"
   ]
  },
  {
   "cell_type": "code",
   "execution_count": null,
   "metadata": {},
   "outputs": [],
   "source": [
    "if len(y0)==2:\n",
    "    list_of_labels = [r\"$x$\",r\"$y$\"]\n",
    "elif len(y0)==3:\n",
    "    list_of_labels = [r\"$x$\",r\"$y$\",r\"$z$\"]\n",
    "elif len(y0)==4:\n",
    "    list_of_labels = [r\"$x$\",r\"$\\dot{x}$\",r\"$y$\",r\"$\\dot{y}$\"]"
   ]
  },
  {
   "cell_type": "code",
   "execution_count": null,
   "metadata": {},
   "outputs": [],
   "source": [
    "output, _ = lsoda(funcptr, y0, t_eval=time_plot, rtol=1e-8, atol=1e-8)\n",
    "plot_results(y0,system,time_plot,output,network_sol,list_of_labels,total_time,time,n_x,n_t,L)"
   ]
  }
 ],
 "metadata": {
  "kernelspec": {
   "display_name": "Python 3.9.12 ('base')",
   "language": "python",
   "name": "python3"
  },
  "language_info": {
   "codemirror_mode": {
    "name": "ipython",
    "version": 3
   },
   "file_extension": ".py",
   "mimetype": "text/x-python",
   "name": "python",
   "nbconvert_exporter": "python",
   "pygments_lexer": "ipython3",
   "version": "3.10.11"
  },
  "orig_nbformat": 4,
  "vscode": {
   "interpreter": {
    "hash": "ed7ab7e2e8a9240e70ddeb3e0a5d2646d3f0c1850e1b729c718218fffe2c99a3"
   }
  }
 },
 "nbformat": 4,
 "nbformat_minor": 2
}
