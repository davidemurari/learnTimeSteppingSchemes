{
 "cells": [
  {
   "cell_type": "code",
   "execution_count": null,
   "metadata": {},
   "outputs": [],
   "source": [
    "import numpy as np\n",
    "import matplotlib.pyplot as plt\n",
    "import time as time_lib\n",
    "\n",
    "import numba as nb\n",
    "from numbalsoda import lsoda_sig, lsoda, dop853\n",
    "from numba import njit, cfunc\n",
    "\n",
    "from scripts.dynamics import vecField\n",
    "from scripts.utils import getCoarse,getNextCoarse\n",
    "from scripts.plotting import plot_results"
   ]
  },
  {
   "cell_type": "code",
   "execution_count": null,
   "metadata": {},
   "outputs": [],
   "source": [
    "system = \"Burger\"\n",
    "\n",
    "n_x = 10\n",
    "n_t = 10\n",
    "\n",
    "LB = -1.\n",
    "UB = 1.\n",
    "L = 50\n",
    "\n",
    "weight = np.random.uniform(low=LB,high=UB,size=(L))\n",
    "bias = np.random.uniform(low=LB,high=UB,size=(L))\n",
    "\n",
    "vecRef = vecField(system=system)\n",
    "if system==\"Rober\":\n",
    "        k1,k2,k3 = vecRef.k1,vecRef.k2,vecRef.k3\n",
    "        t_max = 100.\n",
    "elif system==\"SIR\":\n",
    "        beta,gamma,N = vecRef.beta,vecRef.gamma,vecRef.N\n",
    "        t_max = 100.\n",
    "elif system==\"Brusselator\":\n",
    "        A,B = vecRef.A,vecRef.B \n",
    "        t_max = 12.\n",
    "elif system==\"Arenstorf\":\n",
    "        a,b = vecRef.a,vecRef.b \n",
    "        t_max = 17.0652165601579625588917206249 #One period\n",
    "elif system==\"Lorenz\":\n",
    "        sigma,r,b = vecRef.sigma,vecRef.r,vecRef.b\n",
    "        t_max = 10.\n",
    "elif system==\"Burger\":\n",
    "        nu = vecRef.nu\n",
    "        dx = vecRef.dx\n",
    "        x = vecRef.x\n",
    "        t_max = 1.\n",
    "else:\n",
    "        print(\"Dynamics not implemented\")\n",
    "        \n",
    "time = np.linspace(0,t_max,int(t_max)+1)\n",
    "dts = np.diff(time)"
   ]
  },
  {
   "cell_type": "markdown",
   "metadata": {},
   "source": [
    "#### Setting the initial conditions"
   ]
  },
  {
   "cell_type": "code",
   "execution_count": null,
   "metadata": {},
   "outputs": [],
   "source": [
    "if system==\"Rober\":\n",
    "        y0 = np.array([1.,0.,0])\n",
    "elif system==\"SIR\":\n",
    "        y0 = np.array([0.3,0.5,0.2])\n",
    "elif system==\"Brusselator\":\n",
    "        y0 = np.array([0.,1.])\n",
    "elif system==\"Arenstorf\":\n",
    "        y0 = np.array([0.994,0,0.,-2.00158510637908252240537862224])\n",
    "elif system==\"Lorenz\":\n",
    "        y0 = np.array([20.,5,-5])\n",
    "elif system==\"Burger\":\n",
    "        y0 = np.sin(2*np.pi*vecRef.x)\n",
    "else:\n",
    "        print(\"Dynamics not implemented\")"
   ]
  },
  {
   "cell_type": "code",
   "execution_count": null,
   "metadata": {},
   "outputs": [],
   "source": [
    "data = {\"LB\" : LB,\n",
    "        \"UB\" : UB,\n",
    "        \"L\" : L,\n",
    "        \"y0\" : y0,\n",
    "        \"weight\" : weight,\n",
    "        \"bias\" : bias,\n",
    "        \"n_x\" : n_x,\n",
    "        \"n_t\" : n_t,\n",
    "        \"system\" : system}"
   ]
  },
  {
   "cell_type": "code",
   "execution_count": null,
   "metadata": {},
   "outputs": [],
   "source": [
    "@cfunc(lsoda_sig)\n",
    "def f(t,y,dy,p):\n",
    "    if system==\"Rober\":\n",
    "        dy[0] =  -k1*y[0] + k3 * y[1] * y[2]\n",
    "        dy[1] = k1*y[0] - k3 * y[1] * y[2] - k2*y[1]**2\n",
    "        dy[2] = k2*y[1]**2\n",
    "    elif system==\"SIR\":\n",
    "        dy[0] = -beta*y[1]*y[0]/N\n",
    "        dy[1] = beta*y[0]*y[1]/N - gamma * y[1]\n",
    "        dy[2]= gamma * y[1]\n",
    "    elif system==\"Brusselator\":\n",
    "        dy[0] = A+y[0]**2*y[1]-(B+1)*y[0]\n",
    "        dy[1] = B*y[0]-y[0]**2*y[1]\n",
    "    elif system==\"Arenstorf\":\n",
    "        mu = a\n",
    "        x, y, vx, vy = y[0],y[2],y[1],y[3]\n",
    "        D1 = ((x + a)**2 + y**2)**1.5\n",
    "        D2 = ((x - b)**2 + y**2)**1.5\n",
    "        dy[0] = vx\n",
    "        dy[1] = x + 2*vy - b*(x + a)/D1 - a*(x - b)/D2\n",
    "        dy[2] = vy\n",
    "        dy[3] = y - 2*vx - b*y/D1 - a*y/D2\n",
    "    elif system==\"Lorenz\":\n",
    "        dy[0] = -sigma * y[0] + sigma * y[1]\n",
    "        dy[1] = -y[0]*y[2]+r*y[0]-y[1]\n",
    "        dy[2] = y[0]*y[1]-b*y[2]\n",
    "    elif system==\"Burger\":\n",
    "        y_array = nb.carray(y, (50,))\n",
    "        #dy = nb.carray(dy, (50,))\n",
    "\n",
    "        # We can now use y_array and dy_array as normal Numpy arrays\n",
    "        # Compute the derivatives, omitting boundaries since they are homogeneous\n",
    "        for i in range(1, 50-1):\n",
    "            y_x = (y_array[i+1] - y_array[i-1]) / (2 * dx)\n",
    "            y_xx = (y_array[i+1] - 2 * y_array[i] + y_array[i-1]) / dx**2\n",
    "            dy[i] = -y_array[i] * y_x + nu * y_xx\n",
    "\n",
    "        # Boundary conditions\n",
    "        dy[0] = 0.\n",
    "        dy[-1] = 0.0\n",
    "    else:\n",
    "        print(\"Dynamics not implemented\")"
   ]
  },
  {
   "cell_type": "code",
   "execution_count": null,
   "metadata": {},
   "outputs": [],
   "source": [
    "funcptr = f.address # address to ODE function"
   ]
  },
  {
   "cell_type": "code",
   "execution_count": null,
   "metadata": {},
   "outputs": [],
   "source": [
    "@njit(parallel=True)\n",
    "def fine_integrator(ics,dts):\n",
    "    usol = np.zeros_like(ics)\n",
    "    for i in nb.prange(len(ics)):\n",
    "        u0 = ics[i]\n",
    "        uu,_ = lsoda(funcptr, u0, t_eval=np.array([0,dts[i]]), rtol = 1e-6, atol = 1e-6)\n",
    "        usol[i] = uu[-1]\n",
    "    return usol"
   ]
  },
  {
   "cell_type": "code",
   "execution_count": null,
   "metadata": {},
   "outputs": [],
   "source": [
    "from scipy.integrate import solve_ivp\n",
    "\n",
    "max_it = 10 #maximum number of parareal iterates\n",
    "tol = 1e-5\n",
    "computational_times_per_iterate = []\n",
    "it = 0\n",
    "is_converged = False\n",
    "\n",
    "networks = []\n",
    "\n",
    "initial_full = time_lib.time()\n",
    "\n",
    "while it<max_it and is_converged==False:\n",
    "\n",
    "    norm_difference = []\n",
    "\n",
    "    if it==0:\n",
    "        initial_time = time_lib.time()\n",
    "        coarse_approx = getCoarse(previous=[],time=time,data=data,networks=networks)\n",
    "        coarse_values_parareal = coarse_approx.copy()\n",
    "        computational_times_per_iterate.append(time_lib.time()-initial_time)\n",
    "            \n",
    "    else:\n",
    "        initial_time = time_lib.time()\n",
    "        coarse_approx = getCoarse(previous=coarse_values_parareal,data=data,time=time,networks=networks)\n",
    "        \n",
    "        start_fine = time_lib.time()\n",
    "        \n",
    "        fine_int = fine_integrator(coarse_values_parareal,dts)\n",
    "        print(\"Time required for the fine solver : \",time_lib.time()-start_fine)\n",
    "        for i in range(len(time)-1):     \n",
    "            previous = coarse_values_parareal[i+1].copy()\n",
    "            coarse_values_parareal[i+1] = fine_int[i] + getNextCoarse(y=coarse_values_parareal[i],i=i,time=time,data=data,networks=networks) - coarse_approx[i+1]\n",
    "            norm_difference = np.linalg.norm(coarse_values_parareal[i+1]-previous,2)\n",
    "            \n",
    "        computational_times_per_iterate.append(time_lib.time()-initial_time)\n",
    "        print(\"Maximum norm of difference :\",np.round(np.max(norm_difference),10))\n",
    "        is_converged = np.max(norm_difference)<tol\n",
    "        \n",
    "    it+=1\n",
    "    print(f\"Iterate {it} completed\")\n",
    "    print(f\"Time for iterate {it} is {computational_times_per_iterate[-1]}\")  \n",
    "\n",
    "total_time = time_lib.time()-initial_full"
   ]
  },
  {
   "cell_type": "code",
   "execution_count": null,
   "metadata": {},
   "outputs": [],
   "source": [
    "def get_detailed_solution():\n",
    "    time_plot = np.linspace(0,networks[0].dt,101)\n",
    "    sol = networks[0].plotOverTimeRange(time_plot)\n",
    "    total_time = time_plot\n",
    "    for i in np.arange(1,len(networks)):\n",
    "        time_plot = np.linspace(0,networks[i].dt,101)[1:]\n",
    "        sol = np.concatenate((sol,networks[i].plotOverTimeRange(time_plot)),axis=1)\n",
    "        total_time = np.concatenate((total_time,time_plot+total_time[-1]),axis=0)\n",
    "    return sol,total_time"
   ]
  },
  {
   "cell_type": "code",
   "execution_count": null,
   "metadata": {},
   "outputs": [],
   "source": [
    "network_sol, time_plot = get_detailed_solution()"
   ]
  },
  {
   "cell_type": "code",
   "execution_count": null,
   "metadata": {},
   "outputs": [],
   "source": [
    "initial = time_lib.time()\n",
    "output, _ = dop853(funcptr, y0, t_eval=time_plot, rtol=1e-11, atol=1e-10)\n",
    "final = time_lib.time()\n",
    "print(f\"Computational time : {final-initial}\")"
   ]
  },
  {
   "cell_type": "code",
   "execution_count": null,
   "metadata": {},
   "outputs": [],
   "source": [
    "if len(y0)==2:\n",
    "    list_of_labels = [r\"$x$\",r\"$y$\"]\n",
    "elif len(y0)==3:\n",
    "    list_of_labels = [r\"$x$\",r\"$y$\",r\"$z$\"]\n",
    "elif len(y0)==4:\n",
    "    list_of_labels = [r\"$x$\",r\"$\\dot{x}$\",r\"$y$\",r\"$\\dot{y}$\"]"
   ]
  },
  {
   "cell_type": "code",
   "execution_count": null,
   "metadata": {},
   "outputs": [],
   "source": [
    "output, _ = lsoda(funcptr, y0, t_eval=time_plot, rtol=1e-8, atol=1e-8)\n",
    "plot_results(y0,system,time_plot,output,network_sol,list_of_labels,total_time,time,n_x,n_t,L)"
   ]
  },
  {
   "cell_type": "code",
   "execution_count": null,
   "metadata": {},
   "outputs": [],
   "source": []
  },
  {
   "cell_type": "code",
   "execution_count": null,
   "metadata": {},
   "outputs": [],
   "source": []
  },
  {
   "cell_type": "code",
   "execution_count": null,
   "metadata": {},
   "outputs": [],
   "source": []
  },
  {
   "cell_type": "code",
   "execution_count": null,
   "metadata": {},
   "outputs": [],
   "source": []
  },
  {
   "cell_type": "code",
   "execution_count": null,
   "metadata": {},
   "outputs": [],
   "source": []
  },
  {
   "cell_type": "code",
   "execution_count": null,
   "metadata": {},
   "outputs": [],
   "source": []
  }
 ],
 "metadata": {
  "kernelspec": {
   "display_name": "Python 3.9.12 ('base')",
   "language": "python",
   "name": "python3"
  },
  "language_info": {
   "codemirror_mode": {
    "name": "ipython",
    "version": 3
   },
   "file_extension": ".py",
   "mimetype": "text/x-python",
   "name": "python",
   "nbconvert_exporter": "python",
   "pygments_lexer": "ipython3",
   "version": "3.10.11"
  },
  "orig_nbformat": 4,
  "vscode": {
   "interpreter": {
    "hash": "ed7ab7e2e8a9240e70ddeb3e0a5d2646d3f0c1850e1b729c718218fffe2c99a3"
   }
  }
 },
 "nbformat": 4,
 "nbformat_minor": 2
}
